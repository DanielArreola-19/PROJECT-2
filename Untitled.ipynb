{
 "cells": [
  {
   "cell_type": "code",
   "execution_count": 34,
   "id": "82d10819",
   "metadata": {},
   "outputs": [
    {
     "name": "stdout",
     "output_type": "stream",
     "text": [
      "Collecting bs4\n",
      "  Using cached bs4-0.0.1.tar.gz (1.1 kB)\n",
      "  Preparing metadata (setup.py) ... \u001b[?25ldone\n",
      "\u001b[?25hRequirement already satisfied: beautifulsoup4 in /Users/darreola/opt/anaconda3/lib/python3.9/site-packages (from bs4) (4.11.1)\n",
      "Requirement already satisfied: soupsieve>1.2 in /Users/darreola/opt/anaconda3/lib/python3.9/site-packages (from beautifulsoup4->bs4) (2.3.1)\n",
      "Building wheels for collected packages: bs4\n",
      "  Building wheel for bs4 (setup.py) ... \u001b[?25ldone\n",
      "\u001b[?25h  Created wheel for bs4: filename=bs4-0.0.1-py3-none-any.whl size=1257 sha256=4838dea4bbfd13bc2ff7ada6f796bbed98bb9034df7c0ca97ca03febefbed370\n",
      "  Stored in directory: /Users/darreola/Library/Caches/pip/wheels/73/2b/cb/099980278a0c9a3e57ff1a89875ec07bfa0b6fcbebb9a8cad3\n",
      "Successfully built bs4\n",
      "Installing collected packages: bs4\n",
      "Successfully installed bs4-0.0.1\n",
      "Note: you may need to restart the kernel to use updated packages.\n"
     ]
    }
   ],
   "source": [
    "pip install bs4"
   ]
  },
  {
   "cell_type": "code",
   "execution_count": 46,
   "id": "e7b92a33",
   "metadata": {},
   "outputs": [],
   "source": [
    "from bs4 import BeautifulSoup"
   ]
  },
  {
   "cell_type": "code",
   "execution_count": 44,
   "id": "ca518f30",
   "metadata": {},
   "outputs": [],
   "source": [
    "import requests"
   ]
  },
  {
   "cell_type": "code",
   "execution_count": 45,
   "id": "9308baab",
   "metadata": {},
   "outputs": [],
   "source": [
    "url = \"https://sfbay.craigslist.org/\""
   ]
  },
  {
   "cell_type": "code",
   "execution_count": 38,
   "id": "7a3524bb",
   "metadata": {},
   "outputs": [],
   "source": [
    "# Make a GET request to the website\n",
    "response = requests.get(url)"
   ]
  },
  {
   "cell_type": "code",
   "execution_count": 39,
   "id": "39c1e951",
   "metadata": {},
   "outputs": [],
   "source": [
    "# Get the content of the response\n",
    "content = response.content"
   ]
  },
  {
   "cell_type": "code",
   "execution_count": 40,
   "id": "e3f7462d",
   "metadata": {},
   "outputs": [],
   "source": [
    "# use beautifulsoup to parse the content\n",
    "soup = BeautifulSoup(content,\"html.parser\")"
   ]
  },
  {
   "cell_type": "code",
   "execution_count": 41,
   "id": "61e7041b",
   "metadata": {},
   "outputs": [],
   "source": [
    "# Find all the post titles\n",
    "post_titles = soup.find_all(\"a\", class_=\"result-title\")"
   ]
  },
  {
   "cell_type": "code",
   "execution_count": 42,
   "id": "d1dca6ea",
   "metadata": {},
   "outputs": [],
   "source": [
    "# print the post titles\n",
    "for title in post_titles:\n",
    "    print(title.text)"
   ]
  },
  {
   "cell_type": "code",
   "execution_count": null,
   "id": "4f7d82e1",
   "metadata": {},
   "outputs": [],
   "source": []
  },
  {
   "cell_type": "code",
   "execution_count": null,
   "id": "3a1f678d",
   "metadata": {},
   "outputs": [],
   "source": []
  }
 ],
 "metadata": {
  "kernelspec": {
   "display_name": "Python 3 (ipykernel)",
   "language": "python",
   "name": "python3"
  },
  "language_info": {
   "codemirror_mode": {
    "name": "ipython",
    "version": 3
   },
   "file_extension": ".py",
   "mimetype": "text/x-python",
   "name": "python",
   "nbconvert_exporter": "python",
   "pygments_lexer": "ipython3",
   "version": "3.9.13"
  }
 },
 "nbformat": 4,
 "nbformat_minor": 5
}
